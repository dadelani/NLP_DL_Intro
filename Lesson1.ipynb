{
  "nbformat": 4,
  "nbformat_minor": 0,
  "metadata": {
    "colab": {
      "provenance": []
    },
    "kernelspec": {
      "name": "python3",
      "display_name": "Python 3"
    },
    "language_info": {
      "name": "python"
    }
  },
  "cells": [
    {
      "cell_type": "markdown",
      "source": [
        "# Train a FastText Word Embedding [![Open In Colab](https://colab.research.google.com/assets/colab-badge.svg)](https://colab.research.google.com/github/dadelani/NLP_DL_Intro/blob/main/Lesson1.ipynb)\n",
        "\n",
        "\n",
        "##### Sections:\n",
        "\n",
        "There are four sections in this notebook:\n",
        "\n",
        "1. Installations: this is where we do installation for relevant dependencies\n",
        "2. Imports: here, we perform imports for all the dependencies needed\n",
        "4. Training: Here, the actual training process is done"
      ],
      "metadata": {
        "id": "RciTSu_0vlCL"
      }
    },
    {
      "cell_type": "markdown",
      "source": [
        "### Installations"
      ],
      "metadata": {
        "id": "sulwPUpDv82d"
      }
    },
    {
      "cell_type": "code",
      "source": [
        "!pip install gensim==4.3.2"
      ],
      "metadata": {
        "colab": {
          "base_uri": "https://localhost:8080/"
        },
        "id": "UWA93di6vrnr",
        "outputId": "d8d28e2c-1662-44ec-cc5c-c1fc1b03f2ae"
      },
      "execution_count": 1,
      "outputs": [
        {
          "output_type": "stream",
          "name": "stdout",
          "text": [
            "Requirement already satisfied: gensim==4.3.2 in /usr/local/lib/python3.10/dist-packages (4.3.2)\n",
            "Requirement already satisfied: numpy>=1.18.5 in /usr/local/lib/python3.10/dist-packages (from gensim==4.3.2) (1.23.5)\n",
            "Requirement already satisfied: scipy>=1.7.0 in /usr/local/lib/python3.10/dist-packages (from gensim==4.3.2) (1.11.2)\n",
            "Requirement already satisfied: smart-open>=1.8.1 in /usr/local/lib/python3.10/dist-packages (from gensim==4.3.2) (6.4.0)\n"
          ]
        }
      ]
    },
    {
      "cell_type": "markdown",
      "source": [
        "###Imports"
      ],
      "metadata": {
        "id": "vWDMRUK1wMv1"
      }
    },
    {
      "cell_type": "code",
      "source": [
        "from gensim.models import FastText, KeyedVectors\n",
        "import string\n",
        "import os\n",
        "\n",
        "punctuations = set(string.punctuation)"
      ],
      "metadata": {
        "id": "9XXrVPaBwPpT"
      },
      "execution_count": 10,
      "outputs": []
    },
    {
      "cell_type": "markdown",
      "source": [
        "### Code:"
      ],
      "metadata": {
        "id": "9PVfvCoLwaAj"
      }
    },
    {
      "cell_type": "code",
      "source": [
        "def create_dir(output_dir):\n",
        "    if not os.path.exists(output_dir):\n",
        "        os.makedirs(output_dir)\n",
        "\n",
        "\n",
        "def preprocess(myfile):\n",
        "    with open(myfile, encoding='utf-8') as f:\n",
        "        text_lines  = f.readlines()\n",
        "    n_tokens = 0\n",
        "    new_text_lines = []\n",
        "    token_set = []\n",
        "    for text in text_lines:\n",
        "        text_tokens = text.split()\n",
        "        new_text_tokens = [word for word in text_tokens if word not in punctuations]\n",
        "        new_text_lines.append(new_text_tokens)\n",
        "        n_tokens+=len(new_text_tokens)\n",
        "        token_set+=new_text_tokens\n",
        "\n",
        "    print(\"# sentences\", len(new_text_lines))\n",
        "    print(\"# Tokens \", n_tokens)\n",
        "    print(\"# Vocabulary \", len(set(token_set)))\n",
        "\n",
        "    return new_text_lines\n",
        "\n",
        "\n",
        "#https://radimrehurek.com/gensim/auto_examples/tutorials/run_word2vec.html#\n",
        "#https://radimrehurek.com/gensim/models/word2vec.html#module-gensim.models.word2vec\n",
        "#https://radimrehurek.com/gensim/auto_examples/tutorials/run_fasttext.html\n",
        "def train_fastText(data_path, lang):\n",
        "    model_full = FastText(preprocess(data_path+'data/'+lang+'.all'), vector_size=300, window=5, min_count=3, workers=4, sg=1, epochs=10, negative=10)\n",
        "    output_dir = data_path+\"embeddings/\"+lang+\"/\"\n",
        "    create_dir(output_dir)\n",
        "    model_full.wv.save(output_dir+lang+\".bin\")\n",
        "    print(\"embedding training Done\")"
      ],
      "metadata": {
        "id": "hmw1Itf3xlL5"
      },
      "execution_count": 5,
      "outputs": []
    },
    {
      "cell_type": "markdown",
      "source": [
        "### Modify this"
      ],
      "metadata": {
        "id": "lp0fWYd9yF0H"
      }
    },
    {
      "cell_type": "code",
      "source": [
        "!git clone https://github.com/dadelani/NLP_DL_Intro.git"
      ],
      "metadata": {
        "colab": {
          "base_uri": "https://localhost:8080/"
        },
        "id": "mD0PXfq1yH52",
        "outputId": "fcedd10a-a27b-4fb8-bac1-ad12733cf131"
      },
      "execution_count": 6,
      "outputs": [
        {
          "output_type": "stream",
          "name": "stdout",
          "text": [
            "Cloning into 'NLP_DL_Intro'...\n",
            "remote: Enumerating objects: 9, done.\u001b[K\n",
            "remote: Counting objects: 100% (9/9), done.\u001b[K\n",
            "remote: Compressing objects: 100% (7/7), done.\u001b[K\n",
            "remote: Total 9 (delta 1), reused 5 (delta 0), pack-reused 0\u001b[K\n",
            "Receiving objects: 100% (9/9), 3.25 MiB | 10.29 MiB/s, done.\n",
            "Resolving deltas: 100% (1/1), done.\n"
          ]
        }
      ]
    },
    {
      "cell_type": "code",
      "source": [
        "data_path = \"NLP_DL_Intro/\""
      ],
      "metadata": {
        "id": "oY-3tlDvyYWq"
      },
      "execution_count": 7,
      "outputs": []
    },
    {
      "cell_type": "code",
      "source": [
        "train_fastText(data_path, 'yo')"
      ],
      "metadata": {
        "colab": {
          "base_uri": "https://localhost:8080/"
        },
        "id": "VXsra9kiytjT",
        "outputId": "1ad0d4e6-381a-45c3-c917-97b923027022"
      },
      "execution_count": 8,
      "outputs": [
        {
          "output_type": "stream",
          "name": "stdout",
          "text": [
            "# sentences 105919\n",
            "# Tokens  1980552\n",
            "# Vocabulary  136608\n",
            "embedding training Done\n"
          ]
        }
      ]
    },
    {
      "cell_type": "markdown",
      "source": [
        "### Analysis"
      ],
      "metadata": {
        "id": "bW1E7fvK2Wj7"
      }
    },
    {
      "cell_type": "code",
      "source": [
        "model = KeyedVectors.load(data_path+'embeddings/yo/yo.bin')\n"
      ],
      "metadata": {
        "id": "twQdGSMX2bGQ"
      },
      "execution_count": 14,
      "outputs": []
    },
    {
      "cell_type": "code",
      "source": [
        "wv = model.word_vec"
      ],
      "metadata": {
        "id": "BjPFNotGRiR9"
      },
      "execution_count": 18,
      "outputs": []
    },
    {
      "cell_type": "code",
      "source": [
        "model['ọdọ̀']"
      ],
      "metadata": {
        "colab": {
          "base_uri": "https://localhost:8080/"
        },
        "id": "9tS-FKFwThFO",
        "outputId": "eace0976-174d-4874-b2ff-d13b117d5aad"
      },
      "execution_count": 20,
      "outputs": [
        {
          "output_type": "execute_result",
          "data": {
            "text/plain": [
              "array([-0.3009538 ,  0.05521351, -0.06429673,  0.03832434, -0.00474682,\n",
              "        0.19180416,  0.15293947, -0.0270202 ,  0.01817678, -0.02435626,\n",
              "       -0.12085856,  0.04649919,  0.11483972, -0.20378807, -0.02971853,\n",
              "        0.01525708, -0.12156061, -0.10994134,  0.10481274, -0.0447474 ,\n",
              "        0.08684216, -0.05806672,  0.03063249,  0.08800097, -0.0788087 ,\n",
              "        0.3184726 , -0.00492311, -0.09382931,  0.03710625, -0.06846689,\n",
              "        0.03872345, -0.03963874,  0.04347344, -0.07017129,  0.01230362,\n",
              "       -0.0480312 ,  0.02866575,  0.06393517, -0.03471699,  0.17563716,\n",
              "       -0.13303536, -0.06490525,  0.03045777,  0.0809239 , -0.01946333,\n",
              "       -0.09839525,  0.00418832,  0.04204311,  0.18329844, -0.2132204 ,\n",
              "        0.10813662,  0.00101487,  0.25050825,  0.02499843, -0.1711096 ,\n",
              "        0.0842272 , -0.02111266,  0.0498506 , -0.05969177,  0.07424942,\n",
              "       -0.08946718,  0.02495108,  0.13357803,  0.10525002, -0.01230905,\n",
              "       -0.0306818 , -0.02400396,  0.10772721,  0.04698715,  0.00762394,\n",
              "        0.02472541,  0.06181242, -0.00462987,  0.02655845, -0.04065419,\n",
              "       -0.08838002,  0.01514993,  0.19245422, -0.07838225, -0.00843949,\n",
              "       -0.01511509,  0.11627833,  0.06999537,  0.05674243, -0.1002543 ,\n",
              "       -0.0059781 , -0.11293483,  0.05130366,  0.07250993, -0.05032904,\n",
              "       -0.02556217,  0.11949828, -0.00240738,  0.00167358, -0.1445254 ,\n",
              "        0.11241987,  0.29045925, -0.09698728, -0.07984898,  0.34104878,\n",
              "        0.14806719,  0.11024097, -0.16049801, -0.29621965, -0.05249823,\n",
              "       -0.15246747,  0.14848664,  0.0072556 , -0.02147553, -0.04448259,\n",
              "        0.01081608, -0.09629184, -0.13056198,  0.06489484, -0.18284136,\n",
              "        0.03468663,  0.02304717,  0.15075327,  0.20911124, -0.09388956,\n",
              "       -0.00416528,  0.10582952,  0.13945685, -0.05300382, -0.03783451,\n",
              "        0.14902256, -0.10532607, -0.02868638, -0.08452497,  0.08957624,\n",
              "       -0.09589237,  0.2206097 ,  0.2576037 , -0.0530655 ,  0.07852443,\n",
              "        0.12333985,  0.20129111,  0.17753947, -0.17506814, -0.05153969,\n",
              "       -0.02383168, -0.05903883, -0.00583213,  0.12311865,  0.23564234,\n",
              "       -0.06212053, -0.21350738,  0.20260009, -0.07736306, -0.18669029,\n",
              "        0.30833855,  0.08962014,  0.09060655,  0.09160349, -0.16622001,\n",
              "       -0.06256279, -0.19065689, -0.12621608, -0.07263938,  0.25940925,\n",
              "       -0.01262986,  0.00229541,  0.03894935,  0.0252662 ,  0.0289362 ,\n",
              "       -0.16821794, -0.00518365,  0.00451722, -0.05578514,  0.25240892,\n",
              "       -0.11272731,  0.104907  , -0.09584861,  0.00151014,  0.04503607,\n",
              "       -0.04080229,  0.05943576,  0.17655572, -0.01572309,  0.09832539,\n",
              "        0.02415598,  0.00463104,  0.1735446 , -0.17458242, -0.15699568,\n",
              "       -0.07422783, -0.02856555, -0.00600821, -0.15042429, -0.0388197 ,\n",
              "       -0.02642026, -0.18431917,  0.09612138, -0.12965545,  0.02930351,\n",
              "       -0.15834218,  0.16944228, -0.01733884, -0.11882583, -0.09379734,\n",
              "       -0.05958258, -0.10759197, -0.05427795, -0.22093129,  0.02321309,\n",
              "       -0.09572247,  0.04524354,  0.12740788,  0.25112706,  0.00094433,\n",
              "        0.00775448,  0.05200862, -0.09661596, -0.19680169, -0.01539929,\n",
              "       -0.0490916 , -0.04111044, -0.00158173,  0.0707141 ,  0.09245558,\n",
              "        0.01957678,  0.02832499, -0.04750516,  0.14722845, -0.07026318,\n",
              "       -0.23030333, -0.19069935, -0.15138581, -0.21632883,  0.08235348,\n",
              "        0.10417496,  0.11324219,  0.04730662, -0.09444865, -0.11007921,\n",
              "        0.03262186,  0.06745217,  0.15829054, -0.04760104, -0.1564968 ,\n",
              "       -0.1031782 , -0.34793776, -0.18349232,  0.20353213,  0.01875776,\n",
              "       -0.06917928,  0.04347884,  0.15170756,  0.15407556,  0.06068924,\n",
              "       -0.09555586, -0.17626303,  0.18355465,  0.28827906,  0.13819915,\n",
              "        0.12017498,  0.14050493, -0.01541293, -0.22452788,  0.11075121,\n",
              "       -0.09507338,  0.1880801 ,  0.04169345, -0.13699318,  0.1180426 ,\n",
              "       -0.0448305 ,  0.15362154, -0.07833485, -0.10165244,  0.02470377,\n",
              "       -0.01922619,  0.13169539,  0.01423313, -0.19419721, -0.05443404,\n",
              "        0.06331944,  0.0558818 ,  0.1253356 , -0.16748016,  0.07391861,\n",
              "        0.01947358,  0.20167975, -0.1180198 , -0.07900003,  0.04706015,\n",
              "        0.1976725 , -0.07509979, -0.20664437,  0.15142886, -0.07477197,\n",
              "       -0.06420458,  0.09933749, -0.04505284, -0.02403398,  0.30220687,\n",
              "       -0.11304156,  0.01174331,  0.1710927 , -0.13080418, -0.14763632],\n",
              "      dtype=float32)"
            ]
          },
          "metadata": {},
          "execution_count": 20
        }
      ]
    },
    {
      "cell_type": "code",
      "source": [
        "model.most_similar(\"igi\")"
      ],
      "metadata": {
        "colab": {
          "base_uri": "https://localhost:8080/"
        },
        "id": "w2cXfsJYT1q_",
        "outputId": "81b2481d-7693-49b9-b32c-dc0b4d742653"
      },
      "execution_count": 22,
      "outputs": [
        {
          "output_type": "execute_result",
          "data": {
            "text/plain": [
              "[('ìgi', 0.759122371673584),\n",
              " ('jigi', 0.7245650887489319),\n",
              " ('gi', 0.7015208601951599),\n",
              " ('Igi', 0.694075882434845),\n",
              " ('dòdò', 0.6915137767791748),\n",
              " ('ewédú', 0.690724790096283),\n",
              " ('Dòdò', 0.6883922219276428),\n",
              " ('Ìgi', 0.6787936091423035),\n",
              " ('èso', 0.6696765422821045),\n",
              " ('èédú', 0.6695988178253174)]"
            ]
          },
          "metadata": {},
          "execution_count": 22
        }
      ]
    }
  ]
}