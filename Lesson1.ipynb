{
  "nbformat": 4,
  "nbformat_minor": 0,
  "metadata": {
    "colab": {
      "provenance": []
    },
    "kernelspec": {
      "name": "python3",
      "display_name": "Python 3"
    },
    "language_info": {
      "name": "python"
    }
  },
  "cells": [
    {
      "cell_type": "markdown",
      "source": [
        "# Train a FastText Word Embedding [![Open In Colab](https://colab.research.google.com/assets/colab-badge.svg)](https://colab.research.google.com/github/dadelani/NLP_DL_Intro/blob/main/Lesson1.ipynb)\n",
        "\n",
        "\n",
        "##### Sections:\n",
        "\n",
        "There are four sections in this notebook:\n",
        "\n",
        "1. Installations: this is where we do installation for relevant dependencies\n",
        "2. Imports: here, we perform imports for all the dependencies needed\n",
        "4. Training: Here, the actual training process is done"
      ],
      "metadata": {
        "id": "RciTSu_0vlCL"
      }
    },
    {
      "cell_type": "markdown",
      "source": [
        "### Installations"
      ],
      "metadata": {
        "id": "sulwPUpDv82d"
      }
    },
    {
      "cell_type": "code",
      "source": [
        "!pip install gensim==4.3.2\n",
        "!pip install pandas\n",
        "!pip install scipy"
      ],
      "metadata": {
        "colab": {
          "base_uri": "https://localhost:8080/"
        },
        "id": "UWA93di6vrnr",
        "outputId": "d03cb5a4-189b-4c98-da56-696d05c0bbf9"
      },
      "execution_count": 1,
      "outputs": [
        {
          "output_type": "stream",
          "name": "stdout",
          "text": [
            "Requirement already satisfied: gensim==4.3.2 in /usr/local/lib/python3.10/dist-packages (4.3.2)\n",
            "Requirement already satisfied: numpy>=1.18.5 in /usr/local/lib/python3.10/dist-packages (from gensim==4.3.2) (1.23.5)\n",
            "Requirement already satisfied: scipy>=1.7.0 in /usr/local/lib/python3.10/dist-packages (from gensim==4.3.2) (1.11.2)\n",
            "Requirement already satisfied: smart-open>=1.8.1 in /usr/local/lib/python3.10/dist-packages (from gensim==4.3.2) (6.4.0)\n",
            "Requirement already satisfied: pandas in /usr/local/lib/python3.10/dist-packages (1.5.3)\n",
            "Requirement already satisfied: python-dateutil>=2.8.1 in /usr/local/lib/python3.10/dist-packages (from pandas) (2.8.2)\n",
            "Requirement already satisfied: pytz>=2020.1 in /usr/local/lib/python3.10/dist-packages (from pandas) (2023.3.post1)\n",
            "Requirement already satisfied: numpy>=1.21.0 in /usr/local/lib/python3.10/dist-packages (from pandas) (1.23.5)\n",
            "Requirement already satisfied: six>=1.5 in /usr/local/lib/python3.10/dist-packages (from python-dateutil>=2.8.1->pandas) (1.16.0)\n",
            "Requirement already satisfied: scipy in /usr/local/lib/python3.10/dist-packages (1.11.2)\n",
            "Requirement already satisfied: numpy<1.28.0,>=1.21.6 in /usr/local/lib/python3.10/dist-packages (from scipy) (1.23.5)\n"
          ]
        }
      ]
    },
    {
      "cell_type": "markdown",
      "source": [
        "###Imports"
      ],
      "metadata": {
        "id": "vWDMRUK1wMv1"
      }
    },
    {
      "cell_type": "code",
      "source": [
        "from gensim.models import FastText, KeyedVectors\n",
        "import string\n",
        "import os\n",
        "\n",
        "punctuations = set(string.punctuation)"
      ],
      "metadata": {
        "id": "9XXrVPaBwPpT"
      },
      "execution_count": 2,
      "outputs": []
    },
    {
      "cell_type": "markdown",
      "source": [
        "### Code:"
      ],
      "metadata": {
        "id": "9PVfvCoLwaAj"
      }
    },
    {
      "cell_type": "code",
      "source": [
        "def create_dir(output_dir):\n",
        "    if not os.path.exists(output_dir):\n",
        "        os.makedirs(output_dir)\n",
        "\n",
        "\n",
        "def preprocess(myfile):\n",
        "    with open(myfile, encoding='utf-8') as f:\n",
        "        text_lines  = f.readlines()\n",
        "    n_tokens = 0\n",
        "    new_text_lines = []\n",
        "    token_set = []\n",
        "    for text in text_lines:\n",
        "        text_tokens = text.split()\n",
        "        new_text_tokens = [word for word in text_tokens if word not in punctuations]\n",
        "        new_text_lines.append(new_text_tokens)\n",
        "        n_tokens+=len(new_text_tokens)\n",
        "        token_set+=new_text_tokens\n",
        "\n",
        "    print(\"# sentences\", len(new_text_lines))\n",
        "    print(\"# Tokens \", n_tokens)\n",
        "    print(\"# Vocabulary \", len(set(token_set)))\n",
        "\n",
        "    return new_text_lines\n",
        "\n",
        "\n",
        "#https://radimrehurek.com/gensim/auto_examples/tutorials/run_word2vec.html#\n",
        "#https://radimrehurek.com/gensim/models/word2vec.html#module-gensim.models.word2vec\n",
        "#https://radimrehurek.com/gensim/auto_examples/tutorials/run_fasttext.html\n",
        "def train_fastText(data_path, lang):\n",
        "    model_full = FastText(preprocess(data_path+'data/'+lang+'.all'), vector_size=300, window=5, min_count=3, workers=4, sg=1, epochs=10, negative=10)\n",
        "    output_dir = data_path+\"embeddings/\"+lang+\"/\"\n",
        "    create_dir(output_dir)\n",
        "    model_full.wv.save(output_dir+lang+\".bin\")\n",
        "    print(\"embedding training Done\")"
      ],
      "metadata": {
        "id": "hmw1Itf3xlL5"
      },
      "execution_count": 3,
      "outputs": []
    },
    {
      "cell_type": "markdown",
      "source": [
        "### Modify this"
      ],
      "metadata": {
        "id": "lp0fWYd9yF0H"
      }
    },
    {
      "cell_type": "code",
      "source": [
        "!git clone https://github.com/dadelani/NLP_DL_Intro.git"
      ],
      "metadata": {
        "colab": {
          "base_uri": "https://localhost:8080/"
        },
        "id": "mD0PXfq1yH52",
        "outputId": "f7e0717a-43f6-4d0b-91e3-367c6ab428c7"
      },
      "execution_count": 4,
      "outputs": [
        {
          "output_type": "stream",
          "name": "stdout",
          "text": [
            "Cloning into 'NLP_DL_Intro'...\n",
            "remote: Enumerating objects: 17, done.\u001b[K\n",
            "remote: Counting objects: 100% (17/17), done.\u001b[K\n",
            "remote: Compressing objects: 100% (14/14), done.\u001b[K\n",
            "remote: Total 17 (delta 3), reused 12 (delta 1), pack-reused 0\u001b[K\n",
            "Receiving objects: 100% (17/17), 3.26 MiB | 10.20 MiB/s, done.\n",
            "Resolving deltas: 100% (3/3), done.\n"
          ]
        }
      ]
    },
    {
      "cell_type": "code",
      "source": [
        "data_path = \"NLP_DL_Intro/\""
      ],
      "metadata": {
        "id": "oY-3tlDvyYWq"
      },
      "execution_count": 5,
      "outputs": []
    },
    {
      "cell_type": "code",
      "source": [
        "train_fastText(data_path, 'yo')"
      ],
      "metadata": {
        "colab": {
          "base_uri": "https://localhost:8080/"
        },
        "id": "VXsra9kiytjT",
        "outputId": "aae97ff6-0944-4705-df3b-fc28c6ab5b29"
      },
      "execution_count": 6,
      "outputs": [
        {
          "output_type": "stream",
          "name": "stdout",
          "text": [
            "# sentences 105919\n",
            "# Tokens  1980552\n",
            "# Vocabulary  136608\n",
            "embedding training Done\n"
          ]
        }
      ]
    },
    {
      "cell_type": "markdown",
      "source": [
        "### Analysis"
      ],
      "metadata": {
        "id": "bW1E7fvK2Wj7"
      }
    },
    {
      "cell_type": "code",
      "source": [
        "model = KeyedVectors.load(data_path+'embeddings/yo/yo.bin')\n"
      ],
      "metadata": {
        "id": "twQdGSMX2bGQ"
      },
      "execution_count": 7,
      "outputs": []
    },
    {
      "cell_type": "markdown",
      "source": [
        "### Word similarity Evaluation"
      ],
      "metadata": {
        "id": "BWAT5Zmw6eJ_"
      }
    },
    {
      "cell_type": "code",
      "source": [
        "import pandas as pd\n",
        "wordSim353 = pd.read_csv(data_path+\"data/wordSim353.csv\")"
      ],
      "metadata": {
        "id": "LSUWt5ev7LRz"
      },
      "execution_count": 8,
      "outputs": []
    },
    {
      "cell_type": "code",
      "source": [
        "wordSim353"
      ],
      "metadata": {
        "id": "2vRb1FiL7Vpz",
        "outputId": "ebbeb8a3-701f-4049-fc3b-6a7321908720",
        "colab": {
          "base_uri": "https://localhost:8080/",
          "height": 423
        }
      },
      "execution_count": 9,
      "outputs": [
        {
          "output_type": "execute_result",
          "data": {
            "text/plain": [
              "     S/N      English1  English2         Yoruba1             Yoruba2  EngSim\n",
              "0      1         tiger       cat            ẹkùn              ológbò    7.35\n",
              "1      2         tiger     tiger            ẹkùn                ẹkùn   10.00\n",
              "2      3          book     paper             ìwé                bébà    7.46\n",
              "3      4      computer  keyboard        kọ̀mpútà       pátákó ìtẹ̀wé    7.62\n",
              "4      5      computer  internet        kọ̀mpútà           ayélujára    7.58\n",
              "..   ...           ...       ...             ...                 ...     ...\n",
              "348  349       weather  forecast        ojú-ọjọ́  àsọtẹ́lẹ̀ ojú ọjọ́    8.34\n",
              "349  350      disaster      area           àjálù             agbègbè    6.25\n",
              "350  351      governor    office          gómìnà              ọ́físì    6.34\n",
              "351  352  architecture   century  àwòrán ilégbèé    ọgbọ́rùn-ún ọdún    3.78\n",
              "352  353          Fuck       Sex         fọ́ọ̀kì            ìbálòpọ̀    9.44\n",
              "\n",
              "[353 rows x 6 columns]"
            ],
            "text/html": [
              "\n",
              "  <div id=\"df-0be960f1-df3f-4d5e-8b17-28b5df1daf23\" class=\"colab-df-container\">\n",
              "    <div>\n",
              "<style scoped>\n",
              "    .dataframe tbody tr th:only-of-type {\n",
              "        vertical-align: middle;\n",
              "    }\n",
              "\n",
              "    .dataframe tbody tr th {\n",
              "        vertical-align: top;\n",
              "    }\n",
              "\n",
              "    .dataframe thead th {\n",
              "        text-align: right;\n",
              "    }\n",
              "</style>\n",
              "<table border=\"1\" class=\"dataframe\">\n",
              "  <thead>\n",
              "    <tr style=\"text-align: right;\">\n",
              "      <th></th>\n",
              "      <th>S/N</th>\n",
              "      <th>English1</th>\n",
              "      <th>English2</th>\n",
              "      <th>Yoruba1</th>\n",
              "      <th>Yoruba2</th>\n",
              "      <th>EngSim</th>\n",
              "    </tr>\n",
              "  </thead>\n",
              "  <tbody>\n",
              "    <tr>\n",
              "      <th>0</th>\n",
              "      <td>1</td>\n",
              "      <td>tiger</td>\n",
              "      <td>cat</td>\n",
              "      <td>ẹkùn</td>\n",
              "      <td>ológbò</td>\n",
              "      <td>7.35</td>\n",
              "    </tr>\n",
              "    <tr>\n",
              "      <th>1</th>\n",
              "      <td>2</td>\n",
              "      <td>tiger</td>\n",
              "      <td>tiger</td>\n",
              "      <td>ẹkùn</td>\n",
              "      <td>ẹkùn</td>\n",
              "      <td>10.00</td>\n",
              "    </tr>\n",
              "    <tr>\n",
              "      <th>2</th>\n",
              "      <td>3</td>\n",
              "      <td>book</td>\n",
              "      <td>paper</td>\n",
              "      <td>ìwé</td>\n",
              "      <td>bébà</td>\n",
              "      <td>7.46</td>\n",
              "    </tr>\n",
              "    <tr>\n",
              "      <th>3</th>\n",
              "      <td>4</td>\n",
              "      <td>computer</td>\n",
              "      <td>keyboard</td>\n",
              "      <td>kọ̀mpútà</td>\n",
              "      <td>pátákó ìtẹ̀wé</td>\n",
              "      <td>7.62</td>\n",
              "    </tr>\n",
              "    <tr>\n",
              "      <th>4</th>\n",
              "      <td>5</td>\n",
              "      <td>computer</td>\n",
              "      <td>internet</td>\n",
              "      <td>kọ̀mpútà</td>\n",
              "      <td>ayélujára</td>\n",
              "      <td>7.58</td>\n",
              "    </tr>\n",
              "    <tr>\n",
              "      <th>...</th>\n",
              "      <td>...</td>\n",
              "      <td>...</td>\n",
              "      <td>...</td>\n",
              "      <td>...</td>\n",
              "      <td>...</td>\n",
              "      <td>...</td>\n",
              "    </tr>\n",
              "    <tr>\n",
              "      <th>348</th>\n",
              "      <td>349</td>\n",
              "      <td>weather</td>\n",
              "      <td>forecast</td>\n",
              "      <td>ojú-ọjọ́</td>\n",
              "      <td>àsọtẹ́lẹ̀ ojú ọjọ́</td>\n",
              "      <td>8.34</td>\n",
              "    </tr>\n",
              "    <tr>\n",
              "      <th>349</th>\n",
              "      <td>350</td>\n",
              "      <td>disaster</td>\n",
              "      <td>area</td>\n",
              "      <td>àjálù</td>\n",
              "      <td>agbègbè</td>\n",
              "      <td>6.25</td>\n",
              "    </tr>\n",
              "    <tr>\n",
              "      <th>350</th>\n",
              "      <td>351</td>\n",
              "      <td>governor</td>\n",
              "      <td>office</td>\n",
              "      <td>gómìnà</td>\n",
              "      <td>ọ́físì</td>\n",
              "      <td>6.34</td>\n",
              "    </tr>\n",
              "    <tr>\n",
              "      <th>351</th>\n",
              "      <td>352</td>\n",
              "      <td>architecture</td>\n",
              "      <td>century</td>\n",
              "      <td>àwòrán ilégbèé</td>\n",
              "      <td>ọgbọ́rùn-ún ọdún</td>\n",
              "      <td>3.78</td>\n",
              "    </tr>\n",
              "    <tr>\n",
              "      <th>352</th>\n",
              "      <td>353</td>\n",
              "      <td>Fuck</td>\n",
              "      <td>Sex</td>\n",
              "      <td>fọ́ọ̀kì</td>\n",
              "      <td>ìbálòpọ̀</td>\n",
              "      <td>9.44</td>\n",
              "    </tr>\n",
              "  </tbody>\n",
              "</table>\n",
              "<p>353 rows × 6 columns</p>\n",
              "</div>\n",
              "    <div class=\"colab-df-buttons\">\n",
              "\n",
              "  <div class=\"colab-df-container\">\n",
              "    <button class=\"colab-df-convert\" onclick=\"convertToInteractive('df-0be960f1-df3f-4d5e-8b17-28b5df1daf23')\"\n",
              "            title=\"Convert this dataframe to an interactive table.\"\n",
              "            style=\"display:none;\">\n",
              "\n",
              "  <svg xmlns=\"http://www.w3.org/2000/svg\" height=\"24px\" viewBox=\"0 -960 960 960\">\n",
              "    <path d=\"M120-120v-720h720v720H120Zm60-500h600v-160H180v160Zm220 220h160v-160H400v160Zm0 220h160v-160H400v160ZM180-400h160v-160H180v160Zm440 0h160v-160H620v160ZM180-180h160v-160H180v160Zm440 0h160v-160H620v160Z\"/>\n",
              "  </svg>\n",
              "    </button>\n",
              "\n",
              "  <style>\n",
              "    .colab-df-container {\n",
              "      display:flex;\n",
              "      gap: 12px;\n",
              "    }\n",
              "\n",
              "    .colab-df-convert {\n",
              "      background-color: #E8F0FE;\n",
              "      border: none;\n",
              "      border-radius: 50%;\n",
              "      cursor: pointer;\n",
              "      display: none;\n",
              "      fill: #1967D2;\n",
              "      height: 32px;\n",
              "      padding: 0 0 0 0;\n",
              "      width: 32px;\n",
              "    }\n",
              "\n",
              "    .colab-df-convert:hover {\n",
              "      background-color: #E2EBFA;\n",
              "      box-shadow: 0px 1px 2px rgba(60, 64, 67, 0.3), 0px 1px 3px 1px rgba(60, 64, 67, 0.15);\n",
              "      fill: #174EA6;\n",
              "    }\n",
              "\n",
              "    .colab-df-buttons div {\n",
              "      margin-bottom: 4px;\n",
              "    }\n",
              "\n",
              "    [theme=dark] .colab-df-convert {\n",
              "      background-color: #3B4455;\n",
              "      fill: #D2E3FC;\n",
              "    }\n",
              "\n",
              "    [theme=dark] .colab-df-convert:hover {\n",
              "      background-color: #434B5C;\n",
              "      box-shadow: 0px 1px 3px 1px rgba(0, 0, 0, 0.15);\n",
              "      filter: drop-shadow(0px 1px 2px rgba(0, 0, 0, 0.3));\n",
              "      fill: #FFFFFF;\n",
              "    }\n",
              "  </style>\n",
              "\n",
              "    <script>\n",
              "      const buttonEl =\n",
              "        document.querySelector('#df-0be960f1-df3f-4d5e-8b17-28b5df1daf23 button.colab-df-convert');\n",
              "      buttonEl.style.display =\n",
              "        google.colab.kernel.accessAllowed ? 'block' : 'none';\n",
              "\n",
              "      async function convertToInteractive(key) {\n",
              "        const element = document.querySelector('#df-0be960f1-df3f-4d5e-8b17-28b5df1daf23');\n",
              "        const dataTable =\n",
              "          await google.colab.kernel.invokeFunction('convertToInteractive',\n",
              "                                                    [key], {});\n",
              "        if (!dataTable) return;\n",
              "\n",
              "        const docLinkHtml = 'Like what you see? Visit the ' +\n",
              "          '<a target=\"_blank\" href=https://colab.research.google.com/notebooks/data_table.ipynb>data table notebook</a>'\n",
              "          + ' to learn more about interactive tables.';\n",
              "        element.innerHTML = '';\n",
              "        dataTable['output_type'] = 'display_data';\n",
              "        await google.colab.output.renderOutput(dataTable, element);\n",
              "        const docLink = document.createElement('div');\n",
              "        docLink.innerHTML = docLinkHtml;\n",
              "        element.appendChild(docLink);\n",
              "      }\n",
              "    </script>\n",
              "  </div>\n",
              "\n",
              "\n",
              "<div id=\"df-80fdbacc-4192-4229-b36d-1fc382b4aba8\">\n",
              "  <button class=\"colab-df-quickchart\" onclick=\"quickchart('df-80fdbacc-4192-4229-b36d-1fc382b4aba8')\"\n",
              "            title=\"Suggest charts.\"\n",
              "            style=\"display:none;\">\n",
              "\n",
              "<svg xmlns=\"http://www.w3.org/2000/svg\" height=\"24px\"viewBox=\"0 0 24 24\"\n",
              "     width=\"24px\">\n",
              "    <g>\n",
              "        <path d=\"M19 3H5c-1.1 0-2 .9-2 2v14c0 1.1.9 2 2 2h14c1.1 0 2-.9 2-2V5c0-1.1-.9-2-2-2zM9 17H7v-7h2v7zm4 0h-2V7h2v10zm4 0h-2v-4h2v4z\"/>\n",
              "    </g>\n",
              "</svg>\n",
              "  </button>\n",
              "\n",
              "<style>\n",
              "  .colab-df-quickchart {\n",
              "      --bg-color: #E8F0FE;\n",
              "      --fill-color: #1967D2;\n",
              "      --hover-bg-color: #E2EBFA;\n",
              "      --hover-fill-color: #174EA6;\n",
              "      --disabled-fill-color: #AAA;\n",
              "      --disabled-bg-color: #DDD;\n",
              "  }\n",
              "\n",
              "  [theme=dark] .colab-df-quickchart {\n",
              "      --bg-color: #3B4455;\n",
              "      --fill-color: #D2E3FC;\n",
              "      --hover-bg-color: #434B5C;\n",
              "      --hover-fill-color: #FFFFFF;\n",
              "      --disabled-bg-color: #3B4455;\n",
              "      --disabled-fill-color: #666;\n",
              "  }\n",
              "\n",
              "  .colab-df-quickchart {\n",
              "    background-color: var(--bg-color);\n",
              "    border: none;\n",
              "    border-radius: 50%;\n",
              "    cursor: pointer;\n",
              "    display: none;\n",
              "    fill: var(--fill-color);\n",
              "    height: 32px;\n",
              "    padding: 0;\n",
              "    width: 32px;\n",
              "  }\n",
              "\n",
              "  .colab-df-quickchart:hover {\n",
              "    background-color: var(--hover-bg-color);\n",
              "    box-shadow: 0 1px 2px rgba(60, 64, 67, 0.3), 0 1px 3px 1px rgba(60, 64, 67, 0.15);\n",
              "    fill: var(--button-hover-fill-color);\n",
              "  }\n",
              "\n",
              "  .colab-df-quickchart-complete:disabled,\n",
              "  .colab-df-quickchart-complete:disabled:hover {\n",
              "    background-color: var(--disabled-bg-color);\n",
              "    fill: var(--disabled-fill-color);\n",
              "    box-shadow: none;\n",
              "  }\n",
              "\n",
              "  .colab-df-spinner {\n",
              "    border: 2px solid var(--fill-color);\n",
              "    border-color: transparent;\n",
              "    border-bottom-color: var(--fill-color);\n",
              "    animation:\n",
              "      spin 1s steps(1) infinite;\n",
              "  }\n",
              "\n",
              "  @keyframes spin {\n",
              "    0% {\n",
              "      border-color: transparent;\n",
              "      border-bottom-color: var(--fill-color);\n",
              "      border-left-color: var(--fill-color);\n",
              "    }\n",
              "    20% {\n",
              "      border-color: transparent;\n",
              "      border-left-color: var(--fill-color);\n",
              "      border-top-color: var(--fill-color);\n",
              "    }\n",
              "    30% {\n",
              "      border-color: transparent;\n",
              "      border-left-color: var(--fill-color);\n",
              "      border-top-color: var(--fill-color);\n",
              "      border-right-color: var(--fill-color);\n",
              "    }\n",
              "    40% {\n",
              "      border-color: transparent;\n",
              "      border-right-color: var(--fill-color);\n",
              "      border-top-color: var(--fill-color);\n",
              "    }\n",
              "    60% {\n",
              "      border-color: transparent;\n",
              "      border-right-color: var(--fill-color);\n",
              "    }\n",
              "    80% {\n",
              "      border-color: transparent;\n",
              "      border-right-color: var(--fill-color);\n",
              "      border-bottom-color: var(--fill-color);\n",
              "    }\n",
              "    90% {\n",
              "      border-color: transparent;\n",
              "      border-bottom-color: var(--fill-color);\n",
              "    }\n",
              "  }\n",
              "</style>\n",
              "\n",
              "  <script>\n",
              "    async function quickchart(key) {\n",
              "      const quickchartButtonEl =\n",
              "        document.querySelector('#' + key + ' button');\n",
              "      quickchartButtonEl.disabled = true;  // To prevent multiple clicks.\n",
              "      quickchartButtonEl.classList.add('colab-df-spinner');\n",
              "      try {\n",
              "        const charts = await google.colab.kernel.invokeFunction(\n",
              "            'suggestCharts', [key], {});\n",
              "      } catch (error) {\n",
              "        console.error('Error during call to suggestCharts:', error);\n",
              "      }\n",
              "      quickchartButtonEl.classList.remove('colab-df-spinner');\n",
              "      quickchartButtonEl.classList.add('colab-df-quickchart-complete');\n",
              "    }\n",
              "    (() => {\n",
              "      let quickchartButtonEl =\n",
              "        document.querySelector('#df-80fdbacc-4192-4229-b36d-1fc382b4aba8 button');\n",
              "      quickchartButtonEl.style.display =\n",
              "        google.colab.kernel.accessAllowed ? 'block' : 'none';\n",
              "    })();\n",
              "  </script>\n",
              "</div>\n",
              "    </div>\n",
              "  </div>\n"
            ]
          },
          "metadata": {},
          "execution_count": 9
        }
      ]
    },
    {
      "cell_type": "code",
      "source": [
        "found = []\n",
        "for i in range(0,353):\n",
        "    p=None\n",
        "    try:\n",
        "        yor1 = wordSim353.at[i,'Yoruba1'].strip()\n",
        "        yor2 = wordSim353.at[i,'Yoruba2'].strip()\n",
        "        p=round(model.similarity(yor1, yor2) * 10,2)\n",
        "        found.append(i)\n",
        "    except:\n",
        "        pass\n",
        "    wordSim353.at[i,'model']=p\n",
        "print(\"# pairs of words found: \", len(found))\n",
        "#print(found)\n",
        "#print(len(set(found) & set(found_pairs)))"
      ],
      "metadata": {
        "id": "SRmJCcOL7d0A",
        "outputId": "0c6d8c3f-ddc9-4512-9ae5-e6feff883e0e",
        "colab": {
          "base_uri": "https://localhost:8080/"
        }
      },
      "execution_count": 10,
      "outputs": [
        {
          "output_type": "stream",
          "name": "stdout",
          "text": [
            "# pairs of words found:  353\n"
          ]
        }
      ]
    },
    {
      "cell_type": "code",
      "source": [
        "from scipy.stats import spearmanr\n",
        "ourcorr1, p_value1 = spearmanr(wordSim353.EngSim,wordSim353.model, nan_policy=\"omit\")"
      ],
      "metadata": {
        "id": "8RFAtFmG7og3"
      },
      "execution_count": 11,
      "outputs": []
    },
    {
      "cell_type": "code",
      "source": [
        "ourcorr1"
      ],
      "metadata": {
        "id": "UnR7l5cB78Kz",
        "outputId": "e0888cf1-7e82-44f6-f23b-2f150cb6e52b",
        "colab": {
          "base_uri": "https://localhost:8080/"
        }
      },
      "execution_count": 12,
      "outputs": [
        {
          "output_type": "execute_result",
          "data": {
            "text/plain": [
              "0.15765993421369978"
            ]
          },
          "metadata": {},
          "execution_count": 12
        }
      ]
    },
    {
      "cell_type": "code",
      "source": [
        "wv = model.word_vec"
      ],
      "metadata": {
        "id": "BjPFNotGRiR9"
      },
      "execution_count": 13,
      "outputs": []
    },
    {
      "cell_type": "code",
      "source": [
        "model['ọdọ̀']"
      ],
      "metadata": {
        "colab": {
          "base_uri": "https://localhost:8080/"
        },
        "id": "9tS-FKFwThFO",
        "outputId": "8472f26d-16d7-4ec3-abf2-b2ea9a8a2c41"
      },
      "execution_count": 14,
      "outputs": [
        {
          "output_type": "execute_result",
          "data": {
            "text/plain": [
              "array([-7.92991892e-02, -1.80173784e-01, -1.73998863e-01,  3.47394422e-02,\n",
              "        3.57980616e-06, -2.33404934e-02,  8.26034248e-02,  8.86629522e-02,\n",
              "       -8.34870487e-02,  1.33198187e-01,  1.85880810e-01, -8.69626626e-02,\n",
              "        2.31984053e-02, -1.18206061e-01, -8.52655619e-02,  1.07652403e-01,\n",
              "        1.02428766e-02, -5.17650135e-02, -1.44465538e-02,  3.33454870e-02,\n",
              "        9.89369676e-03, -1.17027178e-01,  1.02621928e-01, -1.39791593e-02,\n",
              "        1.24087550e-01,  8.30306709e-02, -1.21862441e-02, -6.31167889e-02,\n",
              "        5.70970662e-02,  1.32579375e-02, -2.14290097e-02, -8.95439237e-02,\n",
              "       -6.83886260e-02,  1.46315824e-02,  8.38238746e-02,  3.14537855e-03,\n",
              "        1.81687213e-02,  9.68609378e-02, -2.51433611e-01,  5.79100847e-02,\n",
              "       -1.48740903e-01,  9.69939977e-02, -4.72241081e-02, -1.03834353e-01,\n",
              "        4.72501473e-04,  1.23524509e-01, -1.11884817e-01,  2.63256490e-01,\n",
              "        1.58634692e-01,  1.90831833e-02, -2.59112800e-03,  3.84469070e-02,\n",
              "        3.89112979e-02,  4.62064669e-02,  2.64601558e-02,  4.20160107e-02,\n",
              "        8.47492069e-02,  2.85439435e-02,  2.41548344e-02, -6.99023306e-02,\n",
              "       -3.25574614e-02, -1.15490267e-02, -7.09627792e-02,  7.57721663e-02,\n",
              "        1.93269234e-02,  1.74227282e-01, -1.54457808e-01,  8.04744288e-02,\n",
              "       -1.46766558e-01, -1.72179304e-02,  3.93268950e-02,  1.23117819e-01,\n",
              "       -9.98158101e-03, -9.57716256e-02, -1.83361322e-02,  4.20318730e-02,\n",
              "       -9.34971273e-02,  3.31209689e-01,  1.11859545e-01, -9.88158658e-02,\n",
              "       -7.45231658e-02,  2.30737492e-01,  2.20501311e-02,  3.50500047e-01,\n",
              "       -7.50295073e-02,  1.01052701e-01, -1.93734735e-01, -4.18553613e-02,\n",
              "        1.72279090e-01, -7.39324242e-02,  4.68757413e-02, -6.03126585e-02,\n",
              "       -1.35310307e-01, -3.01980879e-02,  2.12012641e-02,  1.41605526e-01,\n",
              "       -9.35475454e-02,  7.14116693e-02,  6.29296377e-02,  6.21777698e-02,\n",
              "        1.01256669e-01,  1.05513431e-01,  9.79268700e-02, -1.27308637e-01,\n",
              "       -7.44198123e-03,  8.72307457e-03,  1.83252409e-01,  1.47341445e-01,\n",
              "       -1.82847157e-01,  1.28698304e-01, -5.99469431e-02,  1.12966195e-01,\n",
              "       -3.30112055e-02, -1.80518143e-02, -3.12331952e-02,  7.34293973e-03,\n",
              "        6.08451776e-02, -2.62289383e-02,  1.00897551e-01,  1.37395784e-02,\n",
              "        1.39187813e-01,  5.82287200e-02,  1.49297357e-01, -6.97444677e-02,\n",
              "       -1.70992881e-01,  4.39460762e-02, -5.30231185e-03, -1.78224862e-01,\n",
              "       -8.93329233e-02,  1.16832875e-01, -1.28367590e-02, -2.21178923e-02,\n",
              "        2.06554860e-01, -1.05203107e-01,  1.47085696e-01,  1.04424082e-01,\n",
              "        1.10641696e-01,  6.26475513e-02, -1.54379606e-02,  7.45959580e-02,\n",
              "       -2.75092460e-02, -1.51919842e-01,  5.15241027e-02, -4.95249592e-02,\n",
              "       -6.30404800e-03, -4.21066061e-02,  2.39457972e-02,  1.27693519e-01,\n",
              "       -7.68798068e-02,  1.23561705e-02,  4.89783064e-02, -1.53872266e-01,\n",
              "       -9.65696126e-02,  2.59914070e-01, -1.07179902e-01,  4.58363965e-02,\n",
              "       -1.91092864e-01, -3.25192600e-01, -4.42387201e-02,  2.62452126e-01,\n",
              "       -1.91396579e-01, -1.33043960e-01,  3.52367684e-02, -1.44488111e-01,\n",
              "        1.38229176e-01,  9.07780901e-02, -5.13540395e-02, -2.11077899e-01,\n",
              "        3.54215950e-02,  1.61656022e-01, -5.20698726e-02,  1.09174773e-01,\n",
              "       -2.50681639e-01,  2.22968999e-02, -1.24381170e-01,  4.56740670e-02,\n",
              "        1.36548087e-01,  5.88888451e-02, -6.43863752e-02,  1.16327249e-01,\n",
              "        2.39423007e-01,  9.58116576e-02,  7.60527402e-02, -1.56740427e-01,\n",
              "       -1.63225263e-01,  1.29011720e-01,  4.77026924e-02,  9.58622769e-02,\n",
              "        5.55771701e-02,  4.88890484e-02,  9.11103189e-02, -1.44194484e-01,\n",
              "       -2.78895646e-02, -2.69154850e-02,  1.00252047e-01, -3.71430248e-01,\n",
              "        1.20617807e-01, -2.67227888e-01, -1.68608502e-01, -1.10518649e-01,\n",
              "       -1.40539289e-01,  9.94252414e-03, -8.31186771e-02, -3.44346404e-01,\n",
              "       -2.85576135e-02, -2.38168404e-01,  6.11177087e-02, -1.19716346e-01,\n",
              "        1.80588856e-01,  5.14101377e-03,  3.72047983e-02, -1.60892874e-01,\n",
              "       -1.35001004e-01, -1.56158477e-01,  9.70523655e-02, -1.12854242e-01,\n",
              "       -7.25050569e-02, -4.08361703e-02, -1.07952833e-01, -7.28603303e-02,\n",
              "       -5.97875044e-02,  5.07595353e-02, -1.17485285e-01,  6.68535382e-02,\n",
              "        9.09244195e-02,  3.16796675e-02, -2.65185893e-01, -1.62674710e-01,\n",
              "       -1.84424028e-01,  1.13902673e-01,  1.20844521e-01,  5.32505885e-02,\n",
              "       -6.93516433e-02, -1.33456126e-01, -7.15416223e-02,  9.88743901e-02,\n",
              "       -1.14548858e-02, -5.50257321e-03,  1.00971185e-01, -2.60137022e-01,\n",
              "       -1.84737891e-01, -9.80350673e-02, -2.89083719e-01, -1.46695198e-02,\n",
              "       -1.07939607e-02, -5.67007065e-02, -1.76957753e-02,  1.73054144e-01,\n",
              "       -7.88908750e-02,  1.88461870e-01,  6.01863861e-02,  1.07377127e-01,\n",
              "        1.89135909e-01,  1.10020839e-01,  1.07253799e-02,  2.10894302e-01,\n",
              "        1.17076077e-01,  2.07281448e-02, -2.32586190e-01,  1.38590500e-01,\n",
              "       -1.16509698e-01,  8.22687447e-02,  1.25564467e-02,  1.23298522e-02,\n",
              "       -4.95572835e-02,  1.89853385e-02, -2.79109087e-02, -4.21838686e-02,\n",
              "        4.51332219e-02,  1.53288674e-02, -7.46167591e-03,  3.73875536e-02,\n",
              "       -1.38054281e-01, -1.34333685e-01,  1.54146910e-01,  6.03349395e-02,\n",
              "       -1.08570412e-01,  5.41302189e-02, -1.84436627e-02,  1.18343249e-01,\n",
              "        5.63607700e-02, -4.44640666e-02,  4.30300906e-02,  2.97780372e-02,\n",
              "       -2.33044364e-02,  7.21773058e-02, -9.23571214e-02, -2.33032674e-01,\n",
              "        4.93682176e-02, -1.61268547e-01, -1.72665477e-01,  9.39412713e-02,\n",
              "       -1.31964028e-01, -1.69368953e-01,  9.44343656e-02, -2.83616446e-02,\n",
              "       -5.39878495e-02,  6.88844770e-02,  8.82855989e-03,  9.93165821e-02],\n",
              "      dtype=float32)"
            ]
          },
          "metadata": {},
          "execution_count": 14
        }
      ]
    },
    {
      "cell_type": "code",
      "source": [
        "model.most_similar(\"igi\")"
      ],
      "metadata": {
        "colab": {
          "base_uri": "https://localhost:8080/"
        },
        "id": "w2cXfsJYT1q_",
        "outputId": "ffb9f74f-55fc-474b-bf8f-d3a333d48fca"
      },
      "execution_count": 15,
      "outputs": [
        {
          "output_type": "execute_result",
          "data": {
            "text/plain": [
              "[('ìgi', 0.7853971719741821),\n",
              " ('jigi', 0.7300555109977722),\n",
              " ('Igi', 0.7245133519172668),\n",
              " ('gi', 0.6883360147476196),\n",
              " ('ewédú', 0.6740989089012146),\n",
              " ('èso', 0.671331524848938),\n",
              " ('dòdò', 0.6674048900604248),\n",
              " ('ihò', 0.6612542867660522),\n",
              " ('imú', 0.6603915691375732),\n",
              " ('igbó', 0.6600068807601929)]"
            ]
          },
          "metadata": {},
          "execution_count": 15
        }
      ]
    }
  ]
}